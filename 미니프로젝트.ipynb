{
 "cells": [
  {
   "cell_type": "code",
   "execution_count": 1,
   "metadata": {},
   "outputs": [],
   "source": [
    "import pandas as pd\n",
    "import numpy as np"
   ]
  },
  {
   "cell_type": "code",
   "execution_count": 2,
   "metadata": {},
   "outputs": [],
   "source": [
    "df = pd.read_csv('https://s3.ap-northeast-2.amazonaws.com/data10902/petition/petition.csv', parse_dates=['start', 'end'])"
   ]
  },
  {
   "cell_type": "markdown",
   "metadata": {},
   "source": [
    "0) 데이터 살펴보기"
   ]
  },
  {
   "cell_type": "code",
   "execution_count": 3,
   "metadata": {},
   "outputs": [
    {
     "data": {
      "text/plain": [
       "(395547, 8)"
      ]
     },
     "execution_count": 3,
     "metadata": {},
     "output_type": "execute_result"
    }
   ],
   "source": [
    "df.shape"
   ]
  },
  {
   "cell_type": "code",
   "execution_count": 4,
   "metadata": {},
   "outputs": [
    {
     "data": {
      "text/html": [
       "<div>\n",
       "<style scoped>\n",
       "    .dataframe tbody tr th:only-of-type {\n",
       "        vertical-align: middle;\n",
       "    }\n",
       "\n",
       "    .dataframe tbody tr th {\n",
       "        vertical-align: top;\n",
       "    }\n",
       "\n",
       "    .dataframe thead th {\n",
       "        text-align: right;\n",
       "    }\n",
       "</style>\n",
       "<table border=\"1\" class=\"dataframe\">\n",
       "  <thead>\n",
       "    <tr style=\"text-align: right;\">\n",
       "      <th></th>\n",
       "      <th>article_id</th>\n",
       "      <th>start</th>\n",
       "      <th>end</th>\n",
       "      <th>answered</th>\n",
       "      <th>votes</th>\n",
       "      <th>category</th>\n",
       "      <th>title</th>\n",
       "      <th>content</th>\n",
       "    </tr>\n",
       "  </thead>\n",
       "  <tbody>\n",
       "    <tr>\n",
       "      <th>0</th>\n",
       "      <td>21</td>\n",
       "      <td>2017-08-19</td>\n",
       "      <td>2017-11-17</td>\n",
       "      <td>0</td>\n",
       "      <td>9</td>\n",
       "      <td>안전/환경</td>\n",
       "      <td>스텔라 데이지호에 대한 제안입니다.</td>\n",
       "      <td>스텔라 데이지호에 대한 제안입니다.\\n3월31일 스텔라 데이지호가 침몰하고 5달째가...</td>\n",
       "    </tr>\n",
       "    <tr>\n",
       "      <th>1</th>\n",
       "      <td>22</td>\n",
       "      <td>2017-08-19</td>\n",
       "      <td>2017-11-17</td>\n",
       "      <td>0</td>\n",
       "      <td>17</td>\n",
       "      <td>기타</td>\n",
       "      <td>비리제보처를 만들어주세요.</td>\n",
       "      <td>현 정부에 국민들이 가장 원하는 것은 부패척결입니다.  우리 사회에 각종 비리들이 ...</td>\n",
       "    </tr>\n",
       "    <tr>\n",
       "      <th>2</th>\n",
       "      <td>23</td>\n",
       "      <td>2017-08-19</td>\n",
       "      <td>2017-09-03</td>\n",
       "      <td>0</td>\n",
       "      <td>0</td>\n",
       "      <td>미래</td>\n",
       "      <td>제2의 개성공단</td>\n",
       "      <td>만일 하시는 대통령님 및 각 부처 장관님,주무관님들 안녕하세요!!\\n전남 목포에서 ...</td>\n",
       "    </tr>\n",
       "    <tr>\n",
       "      <th>3</th>\n",
       "      <td>24</td>\n",
       "      <td>2017-08-19</td>\n",
       "      <td>2017-08-26</td>\n",
       "      <td>0</td>\n",
       "      <td>53</td>\n",
       "      <td>일자리</td>\n",
       "      <td>공공기관 무조건적인 정규직전환을 반대합니다.</td>\n",
       "      <td>현정부에서 정규직 일자리를 늘리는 것에 찬성합니다. 그런데 공공기관 비정규직들은 인...</td>\n",
       "    </tr>\n",
       "    <tr>\n",
       "      <th>4</th>\n",
       "      <td>25</td>\n",
       "      <td>2017-08-19</td>\n",
       "      <td>2017-09-03</td>\n",
       "      <td>0</td>\n",
       "      <td>0</td>\n",
       "      <td>미래</td>\n",
       "      <td>제2의 개성공단</td>\n",
       "      <td>만일 하시는 대통령님 및 각 부처 장관님,주무관님들 안녕하세요!!\\n전남 목포에서 ...</td>\n",
       "    </tr>\n",
       "  </tbody>\n",
       "</table>\n",
       "</div>"
      ],
      "text/plain": [
       "   article_id      start        end  answered  votes category  \\\n",
       "0          21 2017-08-19 2017-11-17         0      9    안전/환경   \n",
       "1          22 2017-08-19 2017-11-17         0     17       기타   \n",
       "2          23 2017-08-19 2017-09-03         0      0       미래   \n",
       "3          24 2017-08-19 2017-08-26         0     53      일자리   \n",
       "4          25 2017-08-19 2017-09-03         0      0       미래   \n",
       "\n",
       "                      title                                            content  \n",
       "0       스텔라 데이지호에 대한 제안입니다.  스텔라 데이지호에 대한 제안입니다.\\n3월31일 스텔라 데이지호가 침몰하고 5달째가...  \n",
       "1            비리제보처를 만들어주세요.  현 정부에 국민들이 가장 원하는 것은 부패척결입니다.  우리 사회에 각종 비리들이 ...  \n",
       "2                  제2의 개성공단  만일 하시는 대통령님 및 각 부처 장관님,주무관님들 안녕하세요!!\\n전남 목포에서 ...  \n",
       "3  공공기관 무조건적인 정규직전환을 반대합니다.  현정부에서 정규직 일자리를 늘리는 것에 찬성합니다. 그런데 공공기관 비정규직들은 인...  \n",
       "4                  제2의 개성공단  만일 하시는 대통령님 및 각 부처 장관님,주무관님들 안녕하세요!!\\n전남 목포에서 ...  "
      ]
     },
     "execution_count": 4,
     "metadata": {},
     "output_type": "execute_result"
    }
   ],
   "source": [
    "df.head(5)"
   ]
  },
  {
   "cell_type": "code",
   "execution_count": 5,
   "metadata": {},
   "outputs": [
    {
     "data": {
      "text/html": [
       "<div>\n",
       "<style scoped>\n",
       "    .dataframe tbody tr th:only-of-type {\n",
       "        vertical-align: middle;\n",
       "    }\n",
       "\n",
       "    .dataframe tbody tr th {\n",
       "        vertical-align: top;\n",
       "    }\n",
       "\n",
       "    .dataframe thead th {\n",
       "        text-align: right;\n",
       "    }\n",
       "</style>\n",
       "<table border=\"1\" class=\"dataframe\">\n",
       "  <thead>\n",
       "    <tr style=\"text-align: right;\">\n",
       "      <th></th>\n",
       "      <th>article_id</th>\n",
       "      <th>start</th>\n",
       "      <th>end</th>\n",
       "      <th>answered</th>\n",
       "      <th>votes</th>\n",
       "      <th>category</th>\n",
       "      <th>title</th>\n",
       "      <th>content</th>\n",
       "    </tr>\n",
       "  </thead>\n",
       "  <tbody>\n",
       "    <tr>\n",
       "      <th>395544</th>\n",
       "      <td>517120</td>\n",
       "      <td>2019-02-04</td>\n",
       "      <td>2019-03-06</td>\n",
       "      <td>0</td>\n",
       "      <td>0</td>\n",
       "      <td>안전/환경</td>\n",
       "      <td>환경문제</td>\n",
       "      <td>명절이면 후로 제일문제는 쓰레기 문제 입니다.\\n제일문제는 선물세트와 농산물세트 입...</td>\n",
       "    </tr>\n",
       "    <tr>\n",
       "      <th>395545</th>\n",
       "      <td>517121</td>\n",
       "      <td>2019-02-04</td>\n",
       "      <td>2019-03-06</td>\n",
       "      <td>0</td>\n",
       "      <td>20</td>\n",
       "      <td>정치개혁</td>\n",
       "      <td>청화대,더불어민주당, 당장 답하라,,,,,,</td>\n",
       "      <td>좌파 더불어민주당, 좌파 정권 청화대는 선한 국민들을 더는 기망하지 말고 담장 답하...</td>\n",
       "    </tr>\n",
       "    <tr>\n",
       "      <th>395546</th>\n",
       "      <td>517122</td>\n",
       "      <td>2019-02-04</td>\n",
       "      <td>2019-03-06</td>\n",
       "      <td>0</td>\n",
       "      <td>16</td>\n",
       "      <td>인권/성평등</td>\n",
       "      <td>여성부 폐지</td>\n",
       "      <td>국민들이 원합니다\\n폐지 좀 시키세요;</td>\n",
       "    </tr>\n",
       "  </tbody>\n",
       "</table>\n",
       "</div>"
      ],
      "text/plain": [
       "        article_id      start        end  answered  votes category  \\\n",
       "395544      517120 2019-02-04 2019-03-06         0      0    안전/환경   \n",
       "395545      517121 2019-02-04 2019-03-06         0     20     정치개혁   \n",
       "395546      517122 2019-02-04 2019-03-06         0     16   인권/성평등   \n",
       "\n",
       "                           title  \\\n",
       "395544                      환경문제   \n",
       "395545  청화대,더불어민주당, 당장 답하라,,,,,,   \n",
       "395546                    여성부 폐지   \n",
       "\n",
       "                                                  content  \n",
       "395544  명절이면 후로 제일문제는 쓰레기 문제 입니다.\\n제일문제는 선물세트와 농산물세트 입...  \n",
       "395545  좌파 더불어민주당, 좌파 정권 청화대는 선한 국민들을 더는 기망하지 말고 담장 답하...  \n",
       "395546                              국민들이 원합니다\\n폐지 좀 시키세요;  "
      ]
     },
     "execution_count": 5,
     "metadata": {},
     "output_type": "execute_result"
    }
   ],
   "source": [
    "df.tail(3)"
   ]
  },
  {
   "cell_type": "code",
   "execution_count": 6,
   "metadata": {},
   "outputs": [
    {
     "data": {
      "text/plain": [
       "article_id    0\n",
       "start         0\n",
       "end           0\n",
       "answered      0\n",
       "votes         0\n",
       "category      0\n",
       "title         0\n",
       "content       1\n",
       "dtype: int64"
      ]
     },
     "execution_count": 6,
     "metadata": {},
     "output_type": "execute_result"
    }
   ],
   "source": [
    "df.isnull().sum()"
   ]
  },
  {
   "cell_type": "code",
   "execution_count": 7,
   "metadata": {},
   "outputs": [
    {
     "name": "stdout",
     "output_type": "stream",
     "text": [
      "<class 'pandas.core.frame.DataFrame'>\n",
      "RangeIndex: 395547 entries, 0 to 395546\n",
      "Data columns (total 8 columns):\n",
      " #   Column      Non-Null Count   Dtype         \n",
      "---  ------      --------------   -----         \n",
      " 0   article_id  395547 non-null  int64         \n",
      " 1   start       395547 non-null  datetime64[ns]\n",
      " 2   end         395547 non-null  datetime64[ns]\n",
      " 3   answered    395547 non-null  int64         \n",
      " 4   votes       395547 non-null  int64         \n",
      " 5   category    395547 non-null  object        \n",
      " 6   title       395547 non-null  object        \n",
      " 7   content     395546 non-null  object        \n",
      "dtypes: datetime64[ns](2), int64(3), object(3)\n",
      "memory usage: 24.1+ MB\n"
     ]
    }
   ],
   "source": [
    "df.info()"
   ]
  },
  {
   "cell_type": "code",
   "execution_count": 8,
   "metadata": {},
   "outputs": [
    {
     "data": {
      "text/plain": [
       "article_id             int64\n",
       "start         datetime64[ns]\n",
       "end           datetime64[ns]\n",
       "answered               int64\n",
       "votes                  int64\n",
       "category              object\n",
       "title                 object\n",
       "content               object\n",
       "dtype: object"
      ]
     },
     "execution_count": 8,
     "metadata": {},
     "output_type": "execute_result"
    }
   ],
   "source": [
    "df.dtypes"
   ]
  },
  {
   "cell_type": "code",
   "execution_count": 9,
   "metadata": {},
   "outputs": [
    {
     "data": {
      "text/plain": [
       "Index(['article_id', 'start', 'end', 'answered', 'votes', 'category', 'title',\n",
       "       'content'],\n",
       "      dtype='object')"
      ]
     },
     "execution_count": 9,
     "metadata": {},
     "output_type": "execute_result"
    }
   ],
   "source": [
    "df.columns"
   ]
  },
  {
   "cell_type": "code",
   "execution_count": 11,
   "metadata": {},
   "outputs": [
    {
     "data": {
      "text/html": [
       "<div>\n",
       "<style scoped>\n",
       "    .dataframe tbody tr th:only-of-type {\n",
       "        vertical-align: middle;\n",
       "    }\n",
       "\n",
       "    .dataframe tbody tr th {\n",
       "        vertical-align: top;\n",
       "    }\n",
       "\n",
       "    .dataframe thead th {\n",
       "        text-align: right;\n",
       "    }\n",
       "</style>\n",
       "<table border=\"1\" class=\"dataframe\">\n",
       "  <thead>\n",
       "    <tr style=\"text-align: right;\">\n",
       "      <th></th>\n",
       "      <th>article_id</th>\n",
       "      <th>answered</th>\n",
       "      <th>votes</th>\n",
       "    </tr>\n",
       "  </thead>\n",
       "  <tbody>\n",
       "    <tr>\n",
       "      <th>count</th>\n",
       "      <td>395547.000000</td>\n",
       "      <td>395547.000000</td>\n",
       "      <td>3.955470e+05</td>\n",
       "    </tr>\n",
       "    <tr>\n",
       "      <th>mean</th>\n",
       "      <td>251608.934635</td>\n",
       "      <td>0.000073</td>\n",
       "      <td>1.501188e+02</td>\n",
       "    </tr>\n",
       "    <tr>\n",
       "      <th>std</th>\n",
       "      <td>153219.216242</td>\n",
       "      <td>0.008562</td>\n",
       "      <td>4.802583e+03</td>\n",
       "    </tr>\n",
       "    <tr>\n",
       "      <th>min</th>\n",
       "      <td>21.000000</td>\n",
       "      <td>0.000000</td>\n",
       "      <td>0.000000e+00</td>\n",
       "    </tr>\n",
       "    <tr>\n",
       "      <th>25%</th>\n",
       "      <td>115236.500000</td>\n",
       "      <td>0.000000</td>\n",
       "      <td>2.000000e+00</td>\n",
       "    </tr>\n",
       "    <tr>\n",
       "      <th>50%</th>\n",
       "      <td>253682.000000</td>\n",
       "      <td>0.000000</td>\n",
       "      <td>5.000000e+00</td>\n",
       "    </tr>\n",
       "    <tr>\n",
       "      <th>75%</th>\n",
       "      <td>386137.500000</td>\n",
       "      <td>0.000000</td>\n",
       "      <td>1.500000e+01</td>\n",
       "    </tr>\n",
       "    <tr>\n",
       "      <th>max</th>\n",
       "      <td>517122.000000</td>\n",
       "      <td>1.000000</td>\n",
       "      <td>1.192049e+06</td>\n",
       "    </tr>\n",
       "  </tbody>\n",
       "</table>\n",
       "</div>"
      ],
      "text/plain": [
       "          article_id       answered         votes\n",
       "count  395547.000000  395547.000000  3.955470e+05\n",
       "mean   251608.934635       0.000073  1.501188e+02\n",
       "std    153219.216242       0.008562  4.802583e+03\n",
       "min        21.000000       0.000000  0.000000e+00\n",
       "25%    115236.500000       0.000000  2.000000e+00\n",
       "50%    253682.000000       0.000000  5.000000e+00\n",
       "75%    386137.500000       0.000000  1.500000e+01\n",
       "max    517122.000000       1.000000  1.192049e+06"
      ]
     },
     "execution_count": 11,
     "metadata": {},
     "output_type": "execute_result"
    }
   ],
   "source": [
    "df.describe()"
   ]
  },
  {
   "cell_type": "markdown",
   "metadata": {},
   "source": [
    "1) answered 열 데이터가 0, 1 값을 갖는 범주형 변수임을 고려하면 이 변수가 의미하는 것이 답변의 유무임을 추측할 수 있다. 답변 대상 청원 중 실제로 답변을 받은 청원의 비율을 살펴보고자 한다."
   ]
  },
  {
   "cell_type": "code",
   "execution_count": 12,
   "metadata": {},
   "outputs": [
    {
     "data": {
      "text/plain": [
       "(80, 8)"
      ]
     },
     "execution_count": 12,
     "metadata": {},
     "output_type": "execute_result"
    }
   ],
   "source": [
    "df_20=df.loc[df['votes']>200000]\n",
    "df_20.shape"
   ]
  },
  {
   "cell_type": "code",
   "execution_count": 13,
   "metadata": {},
   "outputs": [
    {
     "data": {
      "text/plain": [
       "(29, 8)"
      ]
     },
     "execution_count": 13,
     "metadata": {},
     "output_type": "execute_result"
    }
   ],
   "source": [
    "df_ans=df.loc[df['answered']==1]\n",
    "df_ans.shape"
   ]
  },
  {
   "cell_type": "code",
   "execution_count": 14,
   "metadata": {},
   "outputs": [
    {
     "data": {
      "text/plain": [
       "0.3625"
      ]
     },
     "execution_count": 14,
     "metadata": {},
     "output_type": "execute_result"
    }
   ],
   "source": [
    "df_ans.shape[0]/df_20.shape[0] #답변율"
   ]
  },
  {
   "cell_type": "code",
   "execution_count": 15,
   "metadata": {},
   "outputs": [
    {
     "data": {
      "text/plain": [
       "True"
      ]
     },
     "execution_count": 15,
     "metadata": {},
     "output_type": "execute_result"
    }
   ],
   "source": [
    "len(df_ans['votes']>200000)==df_ans.shape[0] #실제로 answered==1인 데이터는 모두 답변 대상 청원이다. 즉, answered 변수는 답변 대상 청원 중에서 실제로 답변한 청원의 유무을 의미한다."
   ]
  },
  {
   "cell_type": "markdown",
   "metadata": {},
   "source": [
    "2) 각 분야에서 가장 많은 투표를 받은 청원을 살펴보고자 한다."
   ]
  },
  {
   "cell_type": "code",
   "execution_count": 16,
   "metadata": {},
   "outputs": [
    {
     "name": "stderr",
     "output_type": "stream",
     "text": [
      "C:\\Users\\ind06\\anaconda3\\envs\\test\\lib\\site-packages\\ipykernel_launcher.py:1: FutureWarning: Indexing with multiple keys (implicitly converted to a tuple of keys) will be deprecated, use a list instead.\n",
      "  \"\"\"Entry point for launching an IPython kernel.\n"
     ]
    },
    {
     "data": {
      "text/html": [
       "<div>\n",
       "<style scoped>\n",
       "    .dataframe tbody tr th:only-of-type {\n",
       "        vertical-align: middle;\n",
       "    }\n",
       "\n",
       "    .dataframe tbody tr th {\n",
       "        vertical-align: top;\n",
       "    }\n",
       "\n",
       "    .dataframe thead th {\n",
       "        text-align: right;\n",
       "    }\n",
       "</style>\n",
       "<table border=\"1\" class=\"dataframe\">\n",
       "  <thead>\n",
       "    <tr style=\"text-align: right;\">\n",
       "      <th></th>\n",
       "      <th>votes</th>\n",
       "      <th>title</th>\n",
       "    </tr>\n",
       "    <tr>\n",
       "      <th>category</th>\n",
       "      <th></th>\n",
       "      <th></th>\n",
       "    </tr>\n",
       "  </thead>\n",
       "  <tbody>\n",
       "    <tr>\n",
       "      <th>경제민주화</th>\n",
       "      <td>242286</td>\n",
       "      <td>😿오늘도 카드빚땜에 강도뉴스.생계형범죄.생계형자살..</td>\n",
       "    </tr>\n",
       "    <tr>\n",
       "      <th>교통/건축/국토</th>\n",
       "      <td>406655</td>\n",
       "      <td>🚫 전동킥보드와 바퀴하나 킥보드 규제 강화해야합니다 🚫</td>\n",
       "    </tr>\n",
       "    <tr>\n",
       "      <th>기타</th>\n",
       "      <td>354935</td>\n",
       "      <td>🔵그냥 국민은 정치말고 편한게 살고 싶습니다.🔵법도 국민이 만들수 있습니다.</td>\n",
       "    </tr>\n",
       "    <tr>\n",
       "      <th>농산어촌</th>\n",
       "      <td>15603</td>\n",
       "      <td>힘듭니다.</td>\n",
       "    </tr>\n",
       "    <tr>\n",
       "      <th>문화/예술/체육/언론</th>\n",
       "      <td>614127</td>\n",
       "      <td>🚨축구 국대감독 파올루 벤투 감독 당장 경질 및 축구협회 적폐청산 🚨</td>\n",
       "    </tr>\n",
       "    <tr>\n",
       "      <th>미래</th>\n",
       "      <td>615354</td>\n",
       "      <td>🙌🙌🙌 담뱃값  내려주세요</td>\n",
       "    </tr>\n",
       "    <tr>\n",
       "      <th>반려동물</th>\n",
       "      <td>226252</td>\n",
       "      <td>히오스 의문화 시켜주세요</td>\n",
       "    </tr>\n",
       "    <tr>\n",
       "      <th>보건복지</th>\n",
       "      <td>281985</td>\n",
       "      <td>🚫외국인은\"한국에서 결핵환자\"공짜치료.중단하라🚫</td>\n",
       "    </tr>\n",
       "    <tr>\n",
       "      <th>성장동력</th>\n",
       "      <td>255554</td>\n",
       "      <td>힘을 얻었습니다</td>\n",
       "    </tr>\n",
       "    <tr>\n",
       "      <th>안전/환경</th>\n",
       "      <td>1192049</td>\n",
       "      <td>󰡐담배꽁초󰡑 󰡐거리에 버려지는 쓰레기󰡑를 없애기 위해서 󰡐쓰파라치󰡑를 실시해야 한다</td>\n",
       "    </tr>\n",
       "    <tr>\n",
       "      <th>외교/통일/국방</th>\n",
       "      <td>714875</td>\n",
       "      <td>🔷제주예멘 나부랭이들과 국내 불법체류자들 추방!!!!!!</td>\n",
       "    </tr>\n",
       "    <tr>\n",
       "      <th>육아/교육</th>\n",
       "      <td>413924</td>\n",
       "      <td>🔴나경원-올림픽위원 파면 말고, 한국국적 박탈 청원</td>\n",
       "    </tr>\n",
       "    <tr>\n",
       "      <th>인권/성평등</th>\n",
       "      <td>419006</td>\n",
       "      <td>🔥보배드림사건, 비공개촬영회사건등 피해자에게 2차가해하는 사이트 처벌해주세요🔥</td>\n",
       "    </tr>\n",
       "    <tr>\n",
       "      <th>일자리</th>\n",
       "      <td>80291</td>\n",
       "      <td>힙갤 수녀님을 구해주세요..</td>\n",
       "    </tr>\n",
       "    <tr>\n",
       "      <th>저출산/고령화대책</th>\n",
       "      <td>23515</td>\n",
       "      <td>？？&lt; 이런 환경에서 아가를 낳코 기르겠냐구요~~&gt;?</td>\n",
       "    </tr>\n",
       "    <tr>\n",
       "      <th>정치개혁</th>\n",
       "      <td>304320</td>\n",
       "      <td>🚫홍준표 처조카LH특별채용.철저히 조사🚫</td>\n",
       "    </tr>\n",
       "    <tr>\n",
       "      <th>행정</th>\n",
       "      <td>302082</td>\n",
       "      <td>🚫정말 물가가  너무비싸져서 더 먹고살기힘들다🚫</td>\n",
       "    </tr>\n",
       "  </tbody>\n",
       "</table>\n",
       "</div>"
      ],
      "text/plain": [
       "               votes                                           title\n",
       "category                                                            \n",
       "경제민주화         242286                   😿오늘도 카드빚땜에 강도뉴스.생계형범죄.생계형자살..\n",
       "교통/건축/국토      406655                  🚫 전동킥보드와 바퀴하나 킥보드 규제 강화해야합니다 🚫\n",
       "기타            354935      🔵그냥 국민은 정치말고 편한게 살고 싶습니다.🔵법도 국민이 만들수 있습니다.\n",
       "농산어촌           15603                                           힘듭니다.\n",
       "문화/예술/체육/언론   614127          🚨축구 국대감독 파올루 벤투 감독 당장 경질 및 축구협회 적폐청산 🚨\n",
       "미래            615354                                  🙌🙌🙌 담뱃값  내려주세요\n",
       "반려동물          226252                                   히오스 의문화 시켜주세요\n",
       "보건복지          281985                      🚫외국인은\"한국에서 결핵환자\"공짜치료.중단하라🚫\n",
       "성장동력          255554                                        힘을 얻었습니다\n",
       "안전/환경        1192049  󰡐담배꽁초󰡑 󰡐거리에 버려지는 쓰레기󰡑를 없애기 위해서 󰡐쓰파라치󰡑를 실시해야 한다\n",
       "외교/통일/국방      714875                 🔷제주예멘 나부랭이들과 국내 불법체류자들 추방!!!!!!\n",
       "육아/교육         413924                    🔴나경원-올림픽위원 파면 말고, 한국국적 박탈 청원\n",
       "인권/성평등        419006     🔥보배드림사건, 비공개촬영회사건등 피해자에게 2차가해하는 사이트 처벌해주세요🔥\n",
       "일자리            80291                                 힙갤 수녀님을 구해주세요..\n",
       "저출산/고령화대책      23515                   ？？< 이런 환경에서 아가를 낳코 기르겠냐구요~~>?\n",
       "정치개혁          304320                          🚫홍준표 처조카LH특별채용.철저히 조사🚫\n",
       "행정            302082                      🚫정말 물가가  너무비싸져서 더 먹고살기힘들다🚫"
      ]
     },
     "execution_count": 16,
     "metadata": {},
     "output_type": "execute_result"
    }
   ],
   "source": [
    "df.groupby('category')['votes','title'].max()"
   ]
  },
  {
   "cell_type": "markdown",
   "metadata": {},
   "source": [
    "3) 최근 전자 킥보드 사용이 대중화되고 있으며, 실제로 '교통/건축/국토' 카테고리에서 가장 많은 투표를 받은 청원이 킥보드 규제에 관한 청원이다. 킥보드와 관련된 청원의 개수를 알아보고자 한다."
   ]
  },
  {
   "cell_type": "code",
   "execution_count": 17,
   "metadata": {},
   "outputs": [
    {
     "data": {
      "text/plain": [
       "(111, 8)"
      ]
     },
     "execution_count": 17,
     "metadata": {},
     "output_type": "execute_result"
    }
   ],
   "source": [
    "kickboard=df[( df.title.str.find('킥보드') != -1 ) | ( df.content.str.find('킥보드') != -1  )]\n",
    "kickboard.shape #킥보드와 관련한 청원은 총 111개이다."
   ]
  },
  {
   "cell_type": "code",
   "execution_count": 18,
   "metadata": {},
   "outputs": [
    {
     "data": {
      "text/html": [
       "<div>\n",
       "<style scoped>\n",
       "    .dataframe tbody tr th:only-of-type {\n",
       "        vertical-align: middle;\n",
       "    }\n",
       "\n",
       "    .dataframe tbody tr th {\n",
       "        vertical-align: top;\n",
       "    }\n",
       "\n",
       "    .dataframe thead th {\n",
       "        text-align: right;\n",
       "    }\n",
       "</style>\n",
       "<table border=\"1\" class=\"dataframe\">\n",
       "  <thead>\n",
       "    <tr style=\"text-align: right;\">\n",
       "      <th></th>\n",
       "      <th>article_id</th>\n",
       "      <th>start</th>\n",
       "      <th>end</th>\n",
       "      <th>answered</th>\n",
       "      <th>votes</th>\n",
       "      <th>category</th>\n",
       "      <th>title</th>\n",
       "      <th>content</th>\n",
       "    </tr>\n",
       "  </thead>\n",
       "  <tbody>\n",
       "    <tr>\n",
       "      <th>8382</th>\n",
       "      <td>8434</td>\n",
       "      <td>2017-09-05</td>\n",
       "      <td>2017-11-04</td>\n",
       "      <td>0</td>\n",
       "      <td>2088</td>\n",
       "      <td>교통/건축/국토</td>\n",
       "      <td>퍼스널모빌리티의 자전거도로 주행을 허용해 주세요.</td>\n",
       "      <td>저는 2017년 7월에 산자부로부터 인가를 받은 (사)한국스마트이모빌리티 협회의  ...</td>\n",
       "    </tr>\n",
       "    <tr>\n",
       "      <th>13535</th>\n",
       "      <td>13602</td>\n",
       "      <td>2017-09-12</td>\n",
       "      <td>2017-10-12</td>\n",
       "      <td>0</td>\n",
       "      <td>1</td>\n",
       "      <td>기타</td>\n",
       "      <td>전동 킥보드 탈 수 있게 해주세요 개선 필요합니다</td>\n",
       "      <td>지금 현재 차도 이용만 가능한데요\\n전동 킥보드 차량으로 분리하는 건 아닌 거 같습...</td>\n",
       "    </tr>\n",
       "    <tr>\n",
       "      <th>13591</th>\n",
       "      <td>13661</td>\n",
       "      <td>2017-09-13</td>\n",
       "      <td>2017-10-13</td>\n",
       "      <td>0</td>\n",
       "      <td>1</td>\n",
       "      <td>안전/환경</td>\n",
       "      <td>환경오염을 줄이기 위한 자동차 출퇴근의 전동킥보드 유도</td>\n",
       "      <td>자동차로 출퇴근을 항상 하던 중 국내 미세먼저로 인해 -거창하게 말하면 후손이며 솔...</td>\n",
       "    </tr>\n",
       "    <tr>\n",
       "      <th>17881</th>\n",
       "      <td>18036</td>\n",
       "      <td>2017-09-29</td>\n",
       "      <td>2017-10-29</td>\n",
       "      <td>0</td>\n",
       "      <td>0</td>\n",
       "      <td>교통/건축/국토</td>\n",
       "      <td>전동훨 전동킥보드에 관한법안 제대로 마련해주세요.</td>\n",
       "      <td>1인 1가구가 늘어나는 이 시점 누가 자동차를 쓸데없이 가지고 싶어할까요? 그래서 ...</td>\n",
       "    </tr>\n",
       "    <tr>\n",
       "      <th>18231</th>\n",
       "      <td>18399</td>\n",
       "      <td>2017-09-30</td>\n",
       "      <td>2017-10-30</td>\n",
       "      <td>0</td>\n",
       "      <td>0</td>\n",
       "      <td>교통/건축/국토</td>\n",
       "      <td>전동킥보드와 같은 원동기 운전에 대한 제대로 된 법안을 만들어 주세요</td>\n",
       "      <td>현재 레저스포츠로 전동 킥보드, 자전거 같은 원동기를  즐겨타는 사람들이 늘고있습니...</td>\n",
       "    </tr>\n",
       "  </tbody>\n",
       "</table>\n",
       "</div>"
      ],
      "text/plain": [
       "       article_id      start        end  answered  votes  category  \\\n",
       "8382         8434 2017-09-05 2017-11-04         0   2088  교통/건축/국토   \n",
       "13535       13602 2017-09-12 2017-10-12         0      1        기타   \n",
       "13591       13661 2017-09-13 2017-10-13         0      1     안전/환경   \n",
       "17881       18036 2017-09-29 2017-10-29         0      0  교통/건축/국토   \n",
       "18231       18399 2017-09-30 2017-10-30         0      0  교통/건축/국토   \n",
       "\n",
       "                                        title  \\\n",
       "8382              퍼스널모빌리티의 자전거도로 주행을 허용해 주세요.   \n",
       "13535             전동 킥보드 탈 수 있게 해주세요 개선 필요합니다   \n",
       "13591          환경오염을 줄이기 위한 자동차 출퇴근의 전동킥보드 유도   \n",
       "17881             전동훨 전동킥보드에 관한법안 제대로 마련해주세요.   \n",
       "18231  전동킥보드와 같은 원동기 운전에 대한 제대로 된 법안을 만들어 주세요   \n",
       "\n",
       "                                                 content  \n",
       "8382   저는 2017년 7월에 산자부로부터 인가를 받은 (사)한국스마트이모빌리티 협회의  ...  \n",
       "13535  지금 현재 차도 이용만 가능한데요\\n전동 킥보드 차량으로 분리하는 건 아닌 거 같습...  \n",
       "13591  자동차로 출퇴근을 항상 하던 중 국내 미세먼저로 인해 -거창하게 말하면 후손이며 솔...  \n",
       "17881  1인 1가구가 늘어나는 이 시점 누가 자동차를 쓸데없이 가지고 싶어할까요? 그래서 ...  \n",
       "18231  현재 레저스포츠로 전동 킥보드, 자전거 같은 원동기를  즐겨타는 사람들이 늘고있습니...  "
      ]
     },
     "execution_count": 18,
     "metadata": {},
     "output_type": "execute_result"
    }
   ],
   "source": [
    "kickboard.head()"
   ]
  },
  {
   "cell_type": "code",
   "execution_count": 19,
   "metadata": {},
   "outputs": [
    {
     "data": {
      "text/html": [
       "<div>\n",
       "<style scoped>\n",
       "    .dataframe tbody tr th:only-of-type {\n",
       "        vertical-align: middle;\n",
       "    }\n",
       "\n",
       "    .dataframe tbody tr th {\n",
       "        vertical-align: top;\n",
       "    }\n",
       "\n",
       "    .dataframe thead th {\n",
       "        text-align: right;\n",
       "    }\n",
       "</style>\n",
       "<table border=\"1\" class=\"dataframe\">\n",
       "  <thead>\n",
       "    <tr style=\"text-align: right;\">\n",
       "      <th></th>\n",
       "      <th>article_id</th>\n",
       "      <th>start</th>\n",
       "      <th>end</th>\n",
       "      <th>answered</th>\n",
       "      <th>votes</th>\n",
       "      <th>category</th>\n",
       "      <th>title</th>\n",
       "      <th>content</th>\n",
       "    </tr>\n",
       "  </thead>\n",
       "  <tbody>\n",
       "    <tr>\n",
       "      <th>370596</th>\n",
       "      <td>482428</td>\n",
       "      <td>2018-12-29</td>\n",
       "      <td>2019-01-28</td>\n",
       "      <td>0</td>\n",
       "      <td>2</td>\n",
       "      <td>정치개혁</td>\n",
       "      <td>음주 단속은 왜 하는거죠?</td>\n",
       "      <td>대통령 아들이나 국회의원 및 기업 총수 아들들은 걸려봤자, 훈방 조치 혹은 그냥 무...</td>\n",
       "    </tr>\n",
       "    <tr>\n",
       "      <th>380365</th>\n",
       "      <td>495553</td>\n",
       "      <td>2019-01-14</td>\n",
       "      <td>2019-02-13</td>\n",
       "      <td>0</td>\n",
       "      <td>1</td>\n",
       "      <td>안전/환경</td>\n",
       "      <td>살기좋은 제주도 제안이랄까요?</td>\n",
       "      <td>제주도가 점점 아파지는것 같아요. 안타까운 마음에 제주도를 사랑하는 대한민국 국민으...</td>\n",
       "    </tr>\n",
       "    <tr>\n",
       "      <th>382713</th>\n",
       "      <td>498605</td>\n",
       "      <td>2019-01-17</td>\n",
       "      <td>2019-02-16</td>\n",
       "      <td>0</td>\n",
       "      <td>1</td>\n",
       "      <td>행정</td>\n",
       "      <td>퍼스널모빌리티의 관련 법을 제대로 규정해주세요.</td>\n",
       "      <td>요즘 퍼스널 모빌리티 즉 전동킥보드, 전동휠, 전동 스쿠터를 타고 다니는 사람이 늘...</td>\n",
       "    </tr>\n",
       "    <tr>\n",
       "      <th>383225</th>\n",
       "      <td>499329</td>\n",
       "      <td>2019-01-17</td>\n",
       "      <td>2019-02-16</td>\n",
       "      <td>0</td>\n",
       "      <td>31</td>\n",
       "      <td>보건복지</td>\n",
       "      <td>미세먼지 해결한다던 공약은 다 어디로 갔나요?</td>\n",
       "      <td>평일에 일하고 주말에 아이데리고 어디 가려하면\\n미세먼지때문에 어디 가지를 몬합니다...</td>\n",
       "    </tr>\n",
       "    <tr>\n",
       "      <th>389265</th>\n",
       "      <td>508053</td>\n",
       "      <td>2019-01-26</td>\n",
       "      <td>2019-02-25</td>\n",
       "      <td>0</td>\n",
       "      <td>2</td>\n",
       "      <td>기타</td>\n",
       "      <td>전동킥보드 관해 정확한 법을 내려주십시오</td>\n",
       "      <td>전동킥보드는 도로에서달리면 욕먹고 위험하고 자전거도로는 법상으로 안돼는것이고 인도는...</td>\n",
       "    </tr>\n",
       "  </tbody>\n",
       "</table>\n",
       "</div>"
      ],
      "text/plain": [
       "        article_id      start        end  answered  votes category  \\\n",
       "370596      482428 2018-12-29 2019-01-28         0      2     정치개혁   \n",
       "380365      495553 2019-01-14 2019-02-13         0      1    안전/환경   \n",
       "382713      498605 2019-01-17 2019-02-16         0      1       행정   \n",
       "383225      499329 2019-01-17 2019-02-16         0     31     보건복지   \n",
       "389265      508053 2019-01-26 2019-02-25         0      2       기타   \n",
       "\n",
       "                             title  \\\n",
       "370596              음주 단속은 왜 하는거죠?   \n",
       "380365            살기좋은 제주도 제안이랄까요?   \n",
       "382713  퍼스널모빌리티의 관련 법을 제대로 규정해주세요.   \n",
       "383225   미세먼지 해결한다던 공약은 다 어디로 갔나요?   \n",
       "389265      전동킥보드 관해 정확한 법을 내려주십시오   \n",
       "\n",
       "                                                  content  \n",
       "370596  대통령 아들이나 국회의원 및 기업 총수 아들들은 걸려봤자, 훈방 조치 혹은 그냥 무...  \n",
       "380365  제주도가 점점 아파지는것 같아요. 안타까운 마음에 제주도를 사랑하는 대한민국 국민으...  \n",
       "382713  요즘 퍼스널 모빌리티 즉 전동킥보드, 전동휠, 전동 스쿠터를 타고 다니는 사람이 늘...  \n",
       "383225  평일에 일하고 주말에 아이데리고 어디 가려하면\\n미세먼지때문에 어디 가지를 몬합니다...  \n",
       "389265  전동킥보드는 도로에서달리면 욕먹고 위험하고 자전거도로는 법상으로 안돼는것이고 인도는...  "
      ]
     },
     "execution_count": 19,
     "metadata": {},
     "output_type": "execute_result"
    }
   ],
   "source": [
    "kickboard.tail()"
   ]
  },
  {
   "cell_type": "markdown",
   "metadata": {},
   "source": [
    "4) 청원 마감날짜는 게시일로부터 30일이다. 모든 청원이 이와 동일한지 살펴보자"
   ]
  },
  {
   "cell_type": "code",
   "execution_count": 21,
   "metadata": {},
   "outputs": [
    {
     "data": {
      "text/plain": [
       "11200"
      ]
     },
     "execution_count": 21,
     "metadata": {},
     "output_type": "execute_result"
    }
   ],
   "source": [
    "len(df.end-df.start)-sum((df.end-df.start)=='30 days 00:00:00')"
   ]
  },
  {
   "cell_type": "markdown",
   "metadata": {},
   "source": [
    "11200건의 청원이 마감 기한을 넘었거나 조기 마감하였다. 유의미하지 않은 데이터라고 판단할 수도 있지만 앞서 데이터를 살펴본 결과 null 값을 가지는 데이터가 없었다."
   ]
  },
  {
   "cell_type": "markdown",
   "metadata": {},
   "source": [
    "5) 분기별 청원수를 그래프로 나타내고자 한다. 이 때 시작일을 기준으로 한다."
   ]
  },
  {
   "cell_type": "code",
   "execution_count": 22,
   "metadata": {},
   "outputs": [
    {
     "data": {
      "text/html": [
       "<div>\n",
       "<style scoped>\n",
       "    .dataframe tbody tr th:only-of-type {\n",
       "        vertical-align: middle;\n",
       "    }\n",
       "\n",
       "    .dataframe tbody tr th {\n",
       "        vertical-align: top;\n",
       "    }\n",
       "\n",
       "    .dataframe thead th {\n",
       "        text-align: right;\n",
       "    }\n",
       "</style>\n",
       "<table border=\"1\" class=\"dataframe\">\n",
       "  <thead>\n",
       "    <tr style=\"text-align: right;\">\n",
       "      <th></th>\n",
       "      <th>article_id</th>\n",
       "      <th>start</th>\n",
       "      <th>end</th>\n",
       "      <th>answered</th>\n",
       "      <th>votes</th>\n",
       "      <th>category</th>\n",
       "      <th>title</th>\n",
       "      <th>content</th>\n",
       "      <th>start_quarter</th>\n",
       "      <th>start_year</th>\n",
       "    </tr>\n",
       "  </thead>\n",
       "  <tbody>\n",
       "    <tr>\n",
       "      <th>0</th>\n",
       "      <td>21</td>\n",
       "      <td>2017-08-19</td>\n",
       "      <td>2017-11-17</td>\n",
       "      <td>0</td>\n",
       "      <td>9</td>\n",
       "      <td>안전/환경</td>\n",
       "      <td>스텔라 데이지호에 대한 제안입니다.</td>\n",
       "      <td>스텔라 데이지호에 대한 제안입니다.\\n3월31일 스텔라 데이지호가 침몰하고 5달째가...</td>\n",
       "      <td>3</td>\n",
       "      <td>2017</td>\n",
       "    </tr>\n",
       "    <tr>\n",
       "      <th>1</th>\n",
       "      <td>22</td>\n",
       "      <td>2017-08-19</td>\n",
       "      <td>2017-11-17</td>\n",
       "      <td>0</td>\n",
       "      <td>17</td>\n",
       "      <td>기타</td>\n",
       "      <td>비리제보처를 만들어주세요.</td>\n",
       "      <td>현 정부에 국민들이 가장 원하는 것은 부패척결입니다.  우리 사회에 각종 비리들이 ...</td>\n",
       "      <td>3</td>\n",
       "      <td>2017</td>\n",
       "    </tr>\n",
       "    <tr>\n",
       "      <th>2</th>\n",
       "      <td>23</td>\n",
       "      <td>2017-08-19</td>\n",
       "      <td>2017-09-03</td>\n",
       "      <td>0</td>\n",
       "      <td>0</td>\n",
       "      <td>미래</td>\n",
       "      <td>제2의 개성공단</td>\n",
       "      <td>만일 하시는 대통령님 및 각 부처 장관님,주무관님들 안녕하세요!!\\n전남 목포에서 ...</td>\n",
       "      <td>3</td>\n",
       "      <td>2017</td>\n",
       "    </tr>\n",
       "    <tr>\n",
       "      <th>3</th>\n",
       "      <td>24</td>\n",
       "      <td>2017-08-19</td>\n",
       "      <td>2017-08-26</td>\n",
       "      <td>0</td>\n",
       "      <td>53</td>\n",
       "      <td>일자리</td>\n",
       "      <td>공공기관 무조건적인 정규직전환을 반대합니다.</td>\n",
       "      <td>현정부에서 정규직 일자리를 늘리는 것에 찬성합니다. 그런데 공공기관 비정규직들은 인...</td>\n",
       "      <td>3</td>\n",
       "      <td>2017</td>\n",
       "    </tr>\n",
       "    <tr>\n",
       "      <th>4</th>\n",
       "      <td>25</td>\n",
       "      <td>2017-08-19</td>\n",
       "      <td>2017-09-03</td>\n",
       "      <td>0</td>\n",
       "      <td>0</td>\n",
       "      <td>미래</td>\n",
       "      <td>제2의 개성공단</td>\n",
       "      <td>만일 하시는 대통령님 및 각 부처 장관님,주무관님들 안녕하세요!!\\n전남 목포에서 ...</td>\n",
       "      <td>3</td>\n",
       "      <td>2017</td>\n",
       "    </tr>\n",
       "  </tbody>\n",
       "</table>\n",
       "</div>"
      ],
      "text/plain": [
       "   article_id      start        end  answered  votes category  \\\n",
       "0          21 2017-08-19 2017-11-17         0      9    안전/환경   \n",
       "1          22 2017-08-19 2017-11-17         0     17       기타   \n",
       "2          23 2017-08-19 2017-09-03         0      0       미래   \n",
       "3          24 2017-08-19 2017-08-26         0     53      일자리   \n",
       "4          25 2017-08-19 2017-09-03         0      0       미래   \n",
       "\n",
       "                      title  \\\n",
       "0       스텔라 데이지호에 대한 제안입니다.   \n",
       "1            비리제보처를 만들어주세요.   \n",
       "2                  제2의 개성공단   \n",
       "3  공공기관 무조건적인 정규직전환을 반대합니다.   \n",
       "4                  제2의 개성공단   \n",
       "\n",
       "                                             content  start_quarter  \\\n",
       "0  스텔라 데이지호에 대한 제안입니다.\\n3월31일 스텔라 데이지호가 침몰하고 5달째가...              3   \n",
       "1  현 정부에 국민들이 가장 원하는 것은 부패척결입니다.  우리 사회에 각종 비리들이 ...              3   \n",
       "2  만일 하시는 대통령님 및 각 부처 장관님,주무관님들 안녕하세요!!\\n전남 목포에서 ...              3   \n",
       "3  현정부에서 정규직 일자리를 늘리는 것에 찬성합니다. 그런데 공공기관 비정규직들은 인...              3   \n",
       "4  만일 하시는 대통령님 및 각 부처 장관님,주무관님들 안녕하세요!!\\n전남 목포에서 ...              3   \n",
       "\n",
       "   start_year  \n",
       "0        2017  \n",
       "1        2017  \n",
       "2        2017  \n",
       "3        2017  \n",
       "4        2017  "
      ]
     },
     "execution_count": 22,
     "metadata": {},
     "output_type": "execute_result"
    }
   ],
   "source": [
    "df['start_quarter'], df['start_year']=(df['start'].dt.quarter, df['start'].dt.year)\n",
    "df.head(5)"
   ]
  },
  {
   "cell_type": "code",
   "execution_count": 23,
   "metadata": {},
   "outputs": [
    {
     "name": "stdout",
     "output_type": "stream",
     "text": [
      "start_year  start_quarter\n",
      "2017        3                18239\n",
      "            4                53880\n",
      "2018        1                78990\n",
      "            2                74209\n",
      "            3                77214\n",
      "            4                69152\n",
      "2019        1                23863\n",
      "dtype: int64\n"
     ]
    }
   ],
   "source": [
    "df_quarter=df.groupby(['start_year', 'start_quarter']).size()\n",
    "print(df_quarter)"
   ]
  },
  {
   "cell_type": "code",
   "execution_count": 24,
   "metadata": {},
   "outputs": [
    {
     "name": "stderr",
     "output_type": "stream",
     "text": [
      "C:\\Users\\ind06\\anaconda3\\envs\\test\\lib\\site-packages\\pandas\\plotting\\_matplotlib\\core.py:1235: UserWarning: FixedFormatter should only be used together with FixedLocator\n",
      "  ax.set_xticklabels(xticklabels)\n"
     ]
    },
    {
     "data": {
      "image/png": "[encoded data removed]",
      "text/plain": [
       "<Figure size 432x288 with 1 Axes>"
      ]
     },
     "metadata": {
      "needs_background": "light"
     },
     "output_type": "display_data"
    }
   ],
   "source": [
    "import matplotlib.pyplot as plt\n",
    "fig, ax=plt.subplots()\n",
    "ax=df_quarter.plot()"
   ]
  },
  {
   "cell_type": "markdown",
   "metadata": {},
   "source": [
    "자료가 2017년 3분기 후반(8월)부터 2019년 1분기 중순(2월)을 담고 있으므로 2017년 3분기와 2019년 1분기는 완전한 자료를 가지고 있다고 하기 어렵다. 따라서 이를 제외하고 나머지를 살펴보자면 2018년 1분기와 3분기에 청원이 가장 많았음을 알 수 있으며, 2017년과 2018년 4분기에는 다소 청원의 수가 적다."
   ]
  }
 ],
 "metadata": {
  "kernelspec": {
   "display_name": "test",
   "language": "python",
   "name": "test"
  },
  "language_info": {
   "codemirror_mode": {
    "name": "ipython",
    "version": 3
   },
   "file_extension": ".py",
   "mimetype": "text/x-python",
   "name": "python",
   "nbconvert_exporter": "python",
   "pygments_lexer": "ipython3",
   "version": "3.7.9"
  }
 },
 "nbformat": 4,
 "nbformat_minor": 4
}
